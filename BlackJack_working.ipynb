{
 "cells": [
  {
   "cell_type": "code",
   "execution_count": 1,
   "id": "cd203c83",
   "metadata": {},
   "outputs": [],
   "source": [
    "import numpy as np\n",
    "import random"
   ]
  },
  {
   "cell_type": "code",
   "execution_count": 107,
   "id": "0f24f4bd",
   "metadata": {},
   "outputs": [],
   "source": [
    "card_values = {'2','3','4', '5', '6', '7', '8', '9', '10', 'J', 'Q', 'K', 'A'}\n",
    "card_suits = {'Hearts', 'Diamonds', 'Spades', 'Clubs'}\n",
    "class Card:\n",
    "    \"\"\"Card class for game - units to make up deck\"\"\"\n",
    "    def __init__(self, value, suit):\n",
    "        self.value = value\n",
    "        self.suit = suit\n",
    "        \n",
    "    def __repr__(self):\n",
    "        return f'{self.value} of {self.suit}'\n",
    "\n",
    "    \n",
    "class Deck:\n",
    "    \"\"\"Deck class - made up of cards, to deal to players in game\"\"\"\n",
    "    def __init__(self, cards):\n",
    "        self.cards = cards\n",
    "        self.deck_size = len(cards)\n",
    "        self.dealt = [] # keeps track of dealt cards\n",
    "        \n",
    "    def __repr__(self):\n",
    "        return \"\\n\".join([f\"{card}\" for card in self.cards])\n",
    "    \n",
    "    def __getitem__(self, indices):\n",
    "        return self.cards[indices]\n",
    "    \n",
    "    def shuffle(self, times = 3):\n",
    "        for t in range(0, times):\n",
    "            np.random.shuffle(self.cards)\n",
    "    \n",
    "    def deal(self, n):\n",
    "        assert n <= len(self.cards), \"Cannot deal more cards than available\"\n",
    "        to_deal = self.cards[0:n]\n",
    "        self.dealt += to_deal # keep track of dealt cards\n",
    "        self.cards = self.cards[n:] # remove cards from deck\n",
    "        return to_deal\n",
    "    \n",
    "    def reclaimCards(self):\n",
    "        self.cards += self.dealt\n",
    "        self.dealt = []      \n",
    "\n",
    "class Game:\n",
    "    \"\"\"class for the running of the game\"\"\"\n",
    "    \n",
    "    def __init__(self, deck, players):\n",
    "        self.deck = deck\n",
    "        self.players = players\n",
    "        \n",
    "        \n",
    "    def deal(self):\n",
    "        \"\"\"initial dealing of cards\"\"\"\n",
    "        for player in self.players:\n",
    "            player.getHand(self.deck.deal(2))\n",
    "            \n",
    "    def play(self):\n",
    "        self.deck.shuffle(5) # shuffle the deck\n",
    "        self.deal() # make sure each player has cards\n",
    "        # make sure players know dealer showing\n",
    "        for player in self.players:\n",
    "            hit = True\n",
    "            while not player.bust and hit:\n",
    "\n",
    "                hit = player.hitOrStay()\n",
    "                print('BEFORE:',player.hand, player.score, '\\n-------------\\n')\n",
    "                if hit:\n",
    "                    player.addCard(self.deck.deal(1))\n",
    "                print('\\n------------\\n', 'bust?',player.bust, 'hit?',hit)\n",
    "                print(player.hand, player.score, '\\n-------------\\n')\n",
    "        print('Game Over! Reclaiming cards')\n",
    "        self.deck.reclaimCards()  \n",
    "        \n",
    "        \n",
    "        \n",
    "class Player:\n",
    "    \n",
    "    def __init__(self):\n",
    "        self.hand = None\n",
    "        self.score = 0\n",
    "        self.bust = False\n",
    "    \n",
    "    def hitOrStay(self):\n",
    "        return True if np.random.uniform() <= 0.9 else False\n",
    "    \n",
    "    def getHand(self, cards):\n",
    "        self.hand = cards\n",
    "        self.calcScore()\n",
    "    \n",
    "    def addCard(self, new):\n",
    "        self.hand += new\n",
    "        self.calcScore()\n",
    "        \n",
    "    def calcScore(self):\n",
    "        temp_score = 0\n",
    "        non_aces = [card for card in self.hand if card.value != 'A']\n",
    "        aces = [card for card in self.hand if card.value == 'A']\n",
    "        \n",
    "        # check that there actually are cards\n",
    "        num_non_aces = len(non_aces)\n",
    "        num_aces = len(aces)\n",
    "        \n",
    "        if num_non_aces > 0:\n",
    "            for card in non_aces:\n",
    "                if card.value.isdigit():\n",
    "                    temp_score += int(card.value)\n",
    "                elif card.value in {'K', 'Q', 'J'}:\n",
    "                    temp_score += 10\n",
    "                \n",
    "        if num_aces > 0:\n",
    "            # checks for rare cases on multiple aces\n",
    "            if num_aces == 1:\n",
    "                if temp_score + 11 <= 21:\n",
    "                    temp_score += 11\n",
    "                else:\n",
    "                    temp_score += 1\n",
    "            else:\n",
    "                if temp_score + 11 + 1 * (num_aces - 1) <= 21:\n",
    "                    temp_score += 11 + 1 * (num_aces - 1)\n",
    "                else:\n",
    "                    temp_score += 1 * num_aces\n",
    "        \n",
    "        self.score = temp_score\n",
    "        \n",
    "        if self.score > 21:\n",
    "            self.bust = True\n",
    "\n",
    "            \n",
    "            \n",
    "            "
   ]
  },
  {
   "cell_type": "code",
   "execution_count": 108,
   "id": "8856a468",
   "metadata": {},
   "outputs": [
    {
     "name": "stdout",
     "output_type": "stream",
     "text": [
      "BEFORE: [3 of Spades, A of Hearts] 14 \n",
      "-------------\n",
      "\n",
      "\n",
      "------------\n",
      " bust? False hit? True\n",
      "[3 of Spades, A of Hearts, A of Spades] 15 \n",
      "-------------\n",
      "\n",
      "BEFORE: [3 of Spades, A of Hearts, A of Spades] 15 \n",
      "-------------\n",
      "\n",
      "\n",
      "------------\n",
      " bust? False hit? True\n",
      "[3 of Spades, A of Hearts, A of Spades, K of Hearts] 15 \n",
      "-------------\n",
      "\n",
      "BEFORE: [3 of Spades, A of Hearts, A of Spades, K of Hearts] 15 \n",
      "-------------\n",
      "\n",
      "\n",
      "------------\n",
      " bust? True hit? True\n",
      "[3 of Spades, A of Hearts, A of Spades, K of Hearts, 7 of Clubs] 22 \n",
      "-------------\n",
      "\n",
      "Game Over! Reclaiming cards\n"
     ]
    }
   ],
   "source": [
    "a_deck_of_cards = [Card(value, suit) for value in card_values for suit in card_suits]\n",
    "\n",
    "aDeck = Deck(a_deck_of_cards)\n",
    "\n",
    "aplayer = Player()\n",
    "\n",
    "aGame = Game(aDeck, [aplayer])\n",
    "\n",
    "aGame.play()\n"
   ]
  },
  {
   "cell_type": "code",
   "execution_count": 109,
   "id": "1c27f2bf",
   "metadata": {},
   "outputs": [
    {
     "name": "stdout",
     "output_type": "stream",
     "text": [
      "15 False\n"
     ]
    }
   ],
   "source": [
    "all_aces = [Card('3', 'Spades'), Card('A', 'Hearts'), Card('A', 'Spades'), Card('K', 'Hearts')]\n",
    "aplayer = Player()\n",
    "aplayer.getHand(all_aces)\n",
    "aplayer.calcScore()\n",
    "print(aplayer.score, aplayer.bust)"
   ]
  },
  {
   "cell_type": "code",
   "execution_count": 88,
   "id": "20a185cf",
   "metadata": {},
   "outputs": [
    {
     "name": "stdout",
     "output_type": "stream",
     "text": [
      "None\n"
     ]
    }
   ],
   "source": [
    "print(aplayer.hand)"
   ]
  },
  {
   "cell_type": "code",
   "execution_count": 39,
   "id": "ea993561",
   "metadata": {},
   "outputs": [
    {
     "name": "stdout",
     "output_type": "stream",
     "text": [
      "0\n",
      "[5 of Spades, 5 of Diamonds, 8 of Hearts] [5 of Hearts, 5 of Clubs]\n",
      "1\n",
      "[8 of Hearts, 8 of Clubs, 8 of Spades] [5 of Spades, 5 of Diamonds]\n",
      "2\n",
      "[8 of Spades, 8 of Diamonds, 3 of Hearts] [8 of Hearts, 8 of Clubs]\n",
      "3\n",
      "[3 of Hearts, 3 of Clubs, 3 of Spades] [8 of Spades, 8 of Diamonds]\n",
      "4\n",
      "[3 of Spades, 3 of Diamonds, Q of Hearts] [3 of Hearts, 3 of Clubs]\n",
      "5\n",
      "[Q of Hearts, Q of Clubs, Q of Spades] [3 of Spades, 3 of Diamonds]\n",
      "6\n",
      "[Q of Spades, Q of Diamonds, 6 of Hearts] [Q of Hearts, Q of Clubs]\n",
      "7\n",
      "[6 of Hearts, 6 of Clubs, 6 of Spades] [Q of Spades, Q of Diamonds]\n",
      "8\n",
      "[6 of Spades, 6 of Diamonds, 7 of Hearts] [6 of Hearts, 6 of Clubs]\n",
      "9\n",
      "[7 of Hearts, 7 of Clubs, 7 of Spades] [6 of Spades, 6 of Diamonds]\n",
      "10\n",
      "[7 of Spades, 7 of Diamonds, 9 of Hearts] [7 of Hearts, 7 of Clubs]\n",
      "11\n",
      "[9 of Hearts, 9 of Clubs, 9 of Spades] [7 of Spades, 7 of Diamonds]\n",
      "12\n",
      "[9 of Spades, 9 of Diamonds, A of Hearts] [9 of Hearts, 9 of Clubs]\n",
      "13\n",
      "[A of Hearts, A of Clubs, A of Spades] [9 of Spades, 9 of Diamonds]\n",
      "14\n",
      "[A of Spades, A of Diamonds, K of Hearts] [A of Hearts, A of Clubs]\n",
      "15\n",
      "[K of Hearts, K of Clubs, K of Spades] [A of Spades, A of Diamonds]\n",
      "16\n",
      "[K of Spades, K of Diamonds, 2 of Hearts] [K of Hearts, K of Clubs]\n",
      "17\n",
      "[2 of Hearts, 2 of Clubs, 2 of Spades] [K of Spades, K of Diamonds]\n",
      "18\n",
      "[2 of Spades, 2 of Diamonds, 4 of Hearts] [2 of Hearts, 2 of Clubs]\n",
      "19\n",
      "[4 of Hearts, 4 of Clubs, 4 of Spades] [2 of Spades, 2 of Diamonds]\n",
      "20\n",
      "[4 of Spades, 4 of Diamonds, J of Hearts] [4 of Hearts, 4 of Clubs]\n",
      "21\n",
      "[J of Hearts, J of Clubs, J of Spades] [4 of Spades, 4 of Diamonds]\n",
      "22\n",
      "[J of Spades, J of Diamonds, 10 of Hearts] [J of Hearts, J of Clubs]\n",
      "23\n",
      "[10 of Hearts, 10 of Clubs, 10 of Spades] [J of Spades, J of Diamonds]\n",
      "24\n",
      "[10 of Spades, 10 of Diamonds] [10 of Hearts, 10 of Clubs]\n",
      "25\n",
      "[] [10 of Spades, 10 of Diamonds]\n"
     ]
    }
   ],
   "source": [
    "for i in range(0, 26):\n",
    "    print(i)\n",
    "    k = aDeck.deal(2)\n",
    "    print(aDeck[0:3], k)"
   ]
  },
  {
   "cell_type": "code",
   "execution_count": 37,
   "id": "9b8447b2",
   "metadata": {},
   "outputs": [],
   "source": [
    "aDeck.reclaimCards()"
   ]
  },
  {
   "cell_type": "code",
   "execution_count": 38,
   "id": "13e0e19c",
   "metadata": {},
   "outputs": [
    {
     "data": {
      "text/plain": [
       "[5 of Hearts, 5 of Clubs, 5 of Spades]"
      ]
     },
     "execution_count": 38,
     "metadata": {},
     "output_type": "execute_result"
    }
   ],
   "source": [
    "aDeck[0:3]"
   ]
  }
 ],
 "metadata": {
  "kernelspec": {
   "display_name": "Python 3 (ipykernel)",
   "language": "python",
   "name": "python3"
  },
  "language_info": {
   "codemirror_mode": {
    "name": "ipython",
    "version": 3
   },
   "file_extension": ".py",
   "mimetype": "text/x-python",
   "name": "python",
   "nbconvert_exporter": "python",
   "pygments_lexer": "ipython3",
   "version": "3.9.7"
  }
 },
 "nbformat": 4,
 "nbformat_minor": 5
}
