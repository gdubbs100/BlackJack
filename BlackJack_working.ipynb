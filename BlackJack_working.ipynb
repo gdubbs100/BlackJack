{
 "cells": [
  {
   "cell_type": "code",
   "execution_count": 1,
   "id": "ab41d6ba",
   "metadata": {},
   "outputs": [],
   "source": [
    "from BlackJack_classes import *\n",
    "\n",
    "card_values = ['2','3','4', '5', '6', '7', '8', '9', '10', 'J', 'Q', 'K', 'A']\n",
    "card_suits = ['Hearts', 'Diamonds', 'Spades', 'Clubs']"
   ]
  },
  {
   "cell_type": "code",
   "execution_count": 2,
   "id": "5a810bfb",
   "metadata": {},
   "outputs": [],
   "source": [
    "class RL_Player(Player):\n",
    "    \"\"\"A reinforcement learning agent that uses a policy to determine moves\"\"\"\n",
    "    \n",
    "    def __init__(self):\n",
    "        super().__init__()\n",
    "        # first index is player score - ranges from 5 to 21 (17): to update value, correct index is gotten using player.score - 5\n",
    "        # second index is face up value of dealer - any card value (13): correct index is gotten card_value.index(card value)\n",
    "        # third index is actions - hit or stay (2) - arbitrarily assign hit to index 0, stay to index 1\n",
    "        self.Q = np.zeros((17, 13, 2)) # action value function\n",
    "        self.pi = np.random.rand(17,13,2) # policy\n",
    "        \n",
    "    def hitOrStay(self, faceup):\n",
    "        score_idx = self.score - 5\n",
    "        faceup_index = card_values.index(faceup.value)\n",
    "        move = np.argmax(self.pi[score_idx, faceup_index, ])\n",
    "        \n",
    "        # record \n",
    "        \n",
    "        # hit is 0, stay is 1\n",
    "        if move == 0:\n",
    "            return True\n",
    "        elif move == 1:\n",
    "            return False\n",
    "\n",
    "        "
   ]
  },
  {
   "cell_type": "code",
   "execution_count": 3,
   "id": "31a7cd41",
   "metadata": {},
   "outputs": [
    {
     "name": "stdout",
     "output_type": "stream",
     "text": [
      "Tim :  -1 23 Dealer :  1 21\n"
     ]
    }
   ],
   "source": [
    "a_deck_of_cards = [Card(value, suit) for value in card_values for suit in card_suits]\n",
    "\n",
    "aDeck = Deck(a_deck_of_cards)\n",
    "\n",
    "aPlayer = RL_Player()\n",
    "aDealer = Dealer()\n",
    "\n",
    "for i in range(1,2):\n",
    "    aGame = Game(i,aDeck, [aPlayer], aDealer)\n",
    "    aGame.play()\n"
   ]
  },
  {
   "cell_type": "code",
   "execution_count": 117,
   "id": "a73061d6",
   "metadata": {},
   "outputs": [
    {
     "data": {
      "text/plain": [
       "True"
      ]
     },
     "execution_count": 117,
     "metadata": {},
     "output_type": "execute_result"
    }
   ],
   "source": [
    "aDealer.hitOrStay()"
   ]
  },
  {
   "cell_type": "code",
   "execution_count": 19,
   "id": "4bbbbe51",
   "metadata": {},
   "outputs": [],
   "source": [
    "# \n",
    "Q_sa = {}\n",
    "for c in card_values:\n",
    "    Q = np.zeros(16, 13 2)\n",
    "    Q_sa[c] = Q\n",
    "    \n"
   ]
  },
  {
   "cell_type": "code",
   "execution_count": 72,
   "id": "83b0c126",
   "metadata": {},
   "outputs": [],
   "source": [
    "# first index is player score - ranges from 5 to 21 (17): to update value, correct index is gotten using player.score - 5\n",
    "# second index is face up value of dealer - any card value (13): correct index is gotten card_value.index(card value)\n",
    "# third index is actions - hit or stay (2) - arbitrarily assign hit to index 0, stay to index 1\n",
    "Q = np.zeros((17, 13, 2))\n",
    "pi = np.random.uniform(0,1, (17,13,2))"
   ]
  },
  {
   "cell_type": "code",
   "execution_count": 75,
   "id": "7f41dfd3",
   "metadata": {},
   "outputs": [
    {
     "data": {
      "text/plain": [
       "1"
      ]
     },
     "execution_count": 75,
     "metadata": {},
     "output_type": "execute_result"
    }
   ],
   "source": [
    "np.argmax(pi[1,1,])"
   ]
  },
  {
   "cell_type": "code",
   "execution_count": 67,
   "id": "3e98cc78",
   "metadata": {},
   "outputs": [
    {
     "name": "stdout",
     "output_type": "stream",
     "text": [
      "0.6308996471179777 [0.28878127 0.71379169]\n"
     ]
    }
   ],
   "source": [
    "from sklearn.preprocessing import normalize\n",
    "new_pi = np.vstack([normalize(pi[i,], axis = 1, norm = 'l1') for i in range(0,pi.shape[0])])\n",
    "print(new_pi[1,1,], pi[1,1,])"
   ]
  },
  {
   "cell_type": "code",
   "execution_count": 69,
   "id": "260bf880",
   "metadata": {},
   "outputs": [
    {
     "data": {
      "text/plain": [
       "array([0.32660253, 0.07878575])"
      ]
     },
     "execution_count": 69,
     "metadata": {},
     "output_type": "execute_result"
    }
   ],
   "source": [
    "pi[1,]"
   ]
  },
  {
   "cell_type": "code",
   "execution_count": 136,
   "id": "b6a21427",
   "metadata": {},
   "outputs": [
    {
     "name": "stdout",
     "output_type": "stream",
     "text": [
      "17 False\n"
     ]
    }
   ],
   "source": [
    "all_aces = [Card('A', 'Spades'), Card('10', 'Hearts'), Card('3', 'Spades'), Card('3', 'Hearts')]\n",
    "aplayer = Player()\n",
    "aplayer.getHand(all_aces)\n",
    "aplayer.calcScore()\n",
    "print(aplayer.score, aplayer.bust)"
   ]
  },
  {
   "cell_type": "code",
   "execution_count": 88,
   "id": "8512a31f",
   "metadata": {},
   "outputs": [
    {
     "name": "stdout",
     "output_type": "stream",
     "text": [
      "None\n"
     ]
    }
   ],
   "source": [
    "print(aplayer.hand)"
   ]
  },
  {
   "cell_type": "code",
   "execution_count": 39,
   "id": "761b8399",
   "metadata": {},
   "outputs": [
    {
     "name": "stdout",
     "output_type": "stream",
     "text": [
      "0\n",
      "[5 of Spades, 5 of Diamonds, 8 of Hearts] [5 of Hearts, 5 of Clubs]\n",
      "1\n",
      "[8 of Hearts, 8 of Clubs, 8 of Spades] [5 of Spades, 5 of Diamonds]\n",
      "2\n",
      "[8 of Spades, 8 of Diamonds, 3 of Hearts] [8 of Hearts, 8 of Clubs]\n",
      "3\n",
      "[3 of Hearts, 3 of Clubs, 3 of Spades] [8 of Spades, 8 of Diamonds]\n",
      "4\n",
      "[3 of Spades, 3 of Diamonds, Q of Hearts] [3 of Hearts, 3 of Clubs]\n",
      "5\n",
      "[Q of Hearts, Q of Clubs, Q of Spades] [3 of Spades, 3 of Diamonds]\n",
      "6\n",
      "[Q of Spades, Q of Diamonds, 6 of Hearts] [Q of Hearts, Q of Clubs]\n",
      "7\n",
      "[6 of Hearts, 6 of Clubs, 6 of Spades] [Q of Spades, Q of Diamonds]\n",
      "8\n",
      "[6 of Spades, 6 of Diamonds, 7 of Hearts] [6 of Hearts, 6 of Clubs]\n",
      "9\n",
      "[7 of Hearts, 7 of Clubs, 7 of Spades] [6 of Spades, 6 of Diamonds]\n",
      "10\n",
      "[7 of Spades, 7 of Diamonds, 9 of Hearts] [7 of Hearts, 7 of Clubs]\n",
      "11\n",
      "[9 of Hearts, 9 of Clubs, 9 of Spades] [7 of Spades, 7 of Diamonds]\n",
      "12\n",
      "[9 of Spades, 9 of Diamonds, A of Hearts] [9 of Hearts, 9 of Clubs]\n",
      "13\n",
      "[A of Hearts, A of Clubs, A of Spades] [9 of Spades, 9 of Diamonds]\n",
      "14\n",
      "[A of Spades, A of Diamonds, K of Hearts] [A of Hearts, A of Clubs]\n",
      "15\n",
      "[K of Hearts, K of Clubs, K of Spades] [A of Spades, A of Diamonds]\n",
      "16\n",
      "[K of Spades, K of Diamonds, 2 of Hearts] [K of Hearts, K of Clubs]\n",
      "17\n",
      "[2 of Hearts, 2 of Clubs, 2 of Spades] [K of Spades, K of Diamonds]\n",
      "18\n",
      "[2 of Spades, 2 of Diamonds, 4 of Hearts] [2 of Hearts, 2 of Clubs]\n",
      "19\n",
      "[4 of Hearts, 4 of Clubs, 4 of Spades] [2 of Spades, 2 of Diamonds]\n",
      "20\n",
      "[4 of Spades, 4 of Diamonds, J of Hearts] [4 of Hearts, 4 of Clubs]\n",
      "21\n",
      "[J of Hearts, J of Clubs, J of Spades] [4 of Spades, 4 of Diamonds]\n",
      "22\n",
      "[J of Spades, J of Diamonds, 10 of Hearts] [J of Hearts, J of Clubs]\n",
      "23\n",
      "[10 of Hearts, 10 of Clubs, 10 of Spades] [J of Spades, J of Diamonds]\n",
      "24\n",
      "[10 of Spades, 10 of Diamonds] [10 of Hearts, 10 of Clubs]\n",
      "25\n",
      "[] [10 of Spades, 10 of Diamonds]\n"
     ]
    }
   ],
   "source": [
    "for i in range(0, 26):\n",
    "    print(i)\n",
    "    k = aDeck.deal(2)\n",
    "    print(aDeck[0:3], k)"
   ]
  },
  {
   "cell_type": "code",
   "execution_count": 37,
   "id": "df266c4f",
   "metadata": {},
   "outputs": [],
   "source": [
    "aDeck.reclaimCards()"
   ]
  },
  {
   "cell_type": "code",
   "execution_count": 38,
   "id": "de593f23",
   "metadata": {},
   "outputs": [
    {
     "data": {
      "text/plain": [
       "[5 of Hearts, 5 of Clubs, 5 of Spades]"
      ]
     },
     "execution_count": 38,
     "metadata": {},
     "output_type": "execute_result"
    }
   ],
   "source": [
    "aDeck[0:3]"
   ]
  }
 ],
 "metadata": {
  "kernelspec": {
   "display_name": "Python 3 (ipykernel)",
   "language": "python",
   "name": "python3"
  },
  "language_info": {
   "codemirror_mode": {
    "name": "ipython",
    "version": 3
   },
   "file_extension": ".py",
   "mimetype": "text/x-python",
   "name": "python",
   "nbconvert_exporter": "python",
   "pygments_lexer": "ipython3",
   "version": "3.9.7"
  }
 },
 "nbformat": 4,
 "nbformat_minor": 5
}
